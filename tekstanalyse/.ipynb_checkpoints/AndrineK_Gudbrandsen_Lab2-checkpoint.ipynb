{
 "cells": [
  {
   "cell_type": "markdown",
   "metadata": {},
   "source": [
    "# Lab exercise 2"
   ]
  },
  {
   "cell_type": "markdown",
   "metadata": {},
   "source": [
    "### 1 - Ambiguity"
   ]
  },
  {
   "cell_type": "markdown",
   "metadata": {},
   "source": [
    "1a)"
   ]
  },
  {
   "cell_type": "code",
   "execution_count": 1,
   "metadata": {},
   "outputs": [],
   "source": [
    "import nltk\n",
    "from nltk.corpus import brown\n",
    "from collections import defaultdict"
   ]
  },
  {
   "cell_type": "code",
   "execution_count": 2,
   "metadata": {},
   "outputs": [],
   "source": [
    "brown_words = brown.words()\n",
    "\n",
    "brown_pos = nltk.pos_tag(brown_words)"
   ]
  },
  {
   "cell_type": "code",
   "execution_count": 5,
   "metadata": {},
   "outputs": [],
   "source": [
    "tags = defaultdict(set)\n",
    "freqtag = defaultdict(int)\n",
    "\n",
    "for word, tag in brown_pos:\n",
    "    tags[word].add(tag)\n",
    "    freqtag[tag] += 1"
   ]
  },
  {
   "cell_type": "code",
   "execution_count": 28,
   "metadata": {},
   "outputs": [
    {
     "name": "stdout",
     "output_type": "stream",
     "text": [
      "[('NN', 160733), ('IN', 135982), ('DT', 116201), ('JJ', 81065), ('NNP', 70646)]\n"
     ]
    }
   ],
   "source": [
    "tag_list = [(k, v) for k, v in freqtag.items()]\n",
    "\n",
    "print(sorted(tag_list, key=lambda x: x[1], reverse=True)[:5])"
   ]
  },
  {
   "cell_type": "markdown",
   "metadata": {},
   "source": [
    "``` [('NN', 160733), ('IN', 135982), ('DT', 116201), ('JJ', 81065), ('NNP', 70646)] ```"
   ]
  },
  {
   "cell_type": "markdown",
   "metadata": {},
   "source": [
    "1b)"
   ]
  },
  {
   "cell_type": "code",
   "execution_count": 18,
   "metadata": {},
   "outputs": [
    {
     "name": "stdout",
     "output_type": "stream",
     "text": [
      "3118\n"
     ]
    }
   ],
   "source": [
    "amb_words_list = {k:v for k, v in tags.items() if len(v) > 2} \n",
    "\n",
    "amb_words = len(amb_words_list.keys())\n",
    "\n",
    "print(amb_words)"
   ]
  },
  {
   "cell_type": "markdown",
   "metadata": {},
   "source": [
    "```3118```"
   ]
  },
  {
   "cell_type": "markdown",
   "metadata": {},
   "source": [
    "1c)"
   ]
  },
  {
   "cell_type": "code",
   "execution_count": 54,
   "metadata": {},
   "outputs": [],
   "source": [
    "word_count = len(set(brown_words))"
   ]
  },
  {
   "cell_type": "code",
   "execution_count": 26,
   "metadata": {},
   "outputs": [
    {
     "name": "stdout",
     "output_type": "stream",
     "text": [
      "5.5622%\n"
     ]
    }
   ],
   "source": [
    "prosent = (float(amb_words) / word_count) * 100\n",
    "\n",
    "print(f\"{prosent:.5}%\")"
   ]
  },
  {
   "cell_type": "markdown",
   "metadata": {},
   "source": [
    "```5.5622%```"
   ]
  },
  {
   "cell_type": "markdown",
   "metadata": {},
   "source": [
    "1d)"
   ]
  },
  {
   "cell_type": "code",
   "execution_count": 45,
   "metadata": {},
   "outputs": [],
   "source": [
    "dist_words = {k:v for k, v in amb_words_list.items() if len(k) > 4}"
   ]
  },
  {
   "cell_type": "code",
   "execution_count": 52,
   "metadata": {},
   "outputs": [
    {
     "name": "stdout",
     "output_type": "stream",
     "text": [
      "you're: {'VBD', 'VBN', 'RB', 'JJ', 'NNP', 'NNS', 'CC', 'VBP', 'JJR', 'PDT', 'PRP', 'VBZ', 'VB', 'NN'}\n",
      "you'll: {'VBN', 'RB', 'JJ', 'CC', 'NNS', 'NNP', 'VBP', 'JJR', 'PRP', 'VBZ', 'VB', 'NN'}\n",
      "You're: {'UH', 'IN', 'RB', 'CC', 'NNP', 'PRP$', 'JJ', 'MD', 'VBZ', 'FW', 'VB', 'NN'}\n",
      "that's: {'VBN', 'IN', 'JJ', 'RB', 'VBP', 'NN', 'PDT', 'VBZ', 'FW', 'VB', 'VBD'}\n",
      "we're: {'VBN', 'IN', 'RB', 'JJ', 'NNS', 'VBP', 'WP', 'VBZ', 'VB', 'NN'}\n"
     ]
    }
   ],
   "source": [
    "for word, tag_list in sorted(dist_words.items(), key=lambda x: len(x[1]), reverse=True)[:5]:\n",
    "    print(\"{}: {}\".format(word, tag_list))"
   ]
  },
  {
   "cell_type": "markdown",
   "metadata": {},
   "source": [
    "```you're: {'VBD', 'VBN', 'RB', 'JJ', 'NNP', 'NNS', 'CC', 'VBP', 'JJR', 'PDT', 'PRP', 'VBZ', 'VB', 'NN'}\n",
    "you'll: {'VBN', 'RB', 'JJ', 'CC', 'NNS', 'NNP', 'VBP', 'JJR', 'PRP', 'VBZ', 'VB', 'NN'}\n",
    "You're: {'UH', 'IN', 'RB', 'CC', 'NNP', 'PRP$', 'JJ', 'MD', 'VBZ', 'FW', 'VB', 'NN'}\n",
    "that's: {'VBN', 'IN', 'JJ', 'RB', 'VBP', 'NN', 'PDT', 'VBZ', 'FW', 'VB', 'VBD'}\n",
    "we're: {'VBN', 'IN', 'RB', 'JJ', 'NNS', 'VBP', 'WP', 'VBZ', 'VB', 'NN'}```"
   ]
  },
  {
   "cell_type": "markdown",
   "metadata": {},
   "source": [
    "Choose the word \"that's\"."
   ]
  },
  {
   "cell_type": "code",
   "execution_count": null,
   "metadata": {},
   "outputs": [],
   "source": []
  }
 ],
 "metadata": {
  "kernelspec": {
   "display_name": "Python 3",
   "language": "python",
   "name": "python3"
  },
  "language_info": {
   "codemirror_mode": {
    "name": "ipython",
    "version": 3
   },
   "file_extension": ".py",
   "mimetype": "text/x-python",
   "name": "python",
   "nbconvert_exporter": "python",
   "pygments_lexer": "ipython3",
   "version": "3.7.6"
  }
 },
 "nbformat": 4,
 "nbformat_minor": 4
}
